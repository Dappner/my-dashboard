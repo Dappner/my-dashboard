{
 "cells": [
  {
   "metadata": {
    "jupyter": {
     "is_executing": true
    }
   },
   "cell_type": "code",
   "source": [
    "from typing import Dict, List\n",
    "from pydantic import BaseModel"
   ],
   "id": "b1116016f82c877a",
   "outputs": [],
   "execution_count": null
  },
  {
   "metadata": {},
   "cell_type": "code",
   "outputs": [],
   "execution_count": null,
   "source": "type(pydantic)",
   "id": "69a534bafc3b481d"
  }
 ],
 "metadata": {},
 "nbformat": 5,
 "nbformat_minor": 9
}
