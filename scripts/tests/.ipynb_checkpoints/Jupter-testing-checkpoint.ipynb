{
 "cells": [
  {
   "cell_type": "code",
   "execution_count": null,
   "id": "9db26532",
   "metadata": {},
   "outputs": [],
   "source": [
    "from typing import Dict, List, Optional\n",
    "from enum import Enum\n",
    "#from pydantic import BaseModel, field_validator\n",
    "from supabase import create_client\n",
    "from datetime import datetime\n",
    "import pydantic\n",
    "print(pydantic.__version__)"
   ]
  },
  {
   "cell_type": "code",
   "execution_count": 25,
   "id": "41210b05",
   "metadata": {},
   "outputs": [],
   "source": [
    "supabase_client = create_client(\"https://wwzyziohidsxmjfkoowh.supabase.co\", \"[REDACTED_JWT]\")"
   ]
  },
  {
   "cell_type": "code",
   "execution_count": 26,
   "id": "8041e7d8",
   "metadata": {},
   "outputs": [],
   "source": [
    "event = {\n",
    "    \n",
    "    \n",
    "}"
   ]
  },
  {
   "cell_type": "code",
   "execution_count": 47,
   "id": "7b74e528",
   "metadata": {},
   "outputs": [
    {
     "ename": "NameError",
     "evalue": "name 'field_validator' is not defined",
     "output_type": "error",
     "traceback": [
      "\u001b[0;31m---------------------------------------------------------------------------\u001b[0m",
      "\u001b[0;31mNameError\u001b[0m                                 Traceback (most recent call last)",
      "Cell \u001b[0;32mIn[47], line 37\u001b[0m\n\u001b[1;32m     32\u001b[0m     calendar: Optional[\u001b[38;5;28mbool\u001b[39m] \u001b[38;5;241m=\u001b[39m \u001b[38;5;28;01mNone\u001b[39;00m\n\u001b[1;32m     33\u001b[0m     fund_data: Optional[\u001b[38;5;28mbool\u001b[39m] \u001b[38;5;241m=\u001b[39m \u001b[38;5;28;01mNone\u001b[39;00m\n\u001b[0;32m---> 37\u001b[0m \u001b[38;5;28;01mclass\u001b[39;00m \u001b[38;5;21;01mEventPayload\u001b[39;00m(BaseModel):\n\u001b[1;32m     38\u001b[0m \u001b[38;5;250m    \u001b[39m\u001b[38;5;124;03m\"\"\"Schema for the event payload.\"\"\"\u001b[39;00m\n\u001b[1;32m     40\u001b[0m     \u001b[38;5;28mtype\u001b[39m: EventType \u001b[38;5;241m=\u001b[39m EventType\u001b[38;5;241m.\u001b[39mSCHEDULED\n",
      "Cell \u001b[0;32mIn[47], line 45\u001b[0m, in \u001b[0;36mEventPayload\u001b[0;34m()\u001b[0m\n\u001b[1;32m     42\u001b[0m start_date: Optional[\u001b[38;5;28mstr\u001b[39m] \u001b[38;5;241m=\u001b[39m \u001b[38;5;28;01mNone\u001b[39;00m\n\u001b[1;32m     43\u001b[0m config: Optional[EventConfig] \u001b[38;5;241m=\u001b[39m \u001b[38;5;28;01mNone\u001b[39;00m\n\u001b[0;32m---> 45\u001b[0m \u001b[38;5;129m@field_validator\u001b[39m(\u001b[38;5;124m\"\u001b[39m\u001b[38;5;124mstart_date\u001b[39m\u001b[38;5;124m\"\u001b[39m)\n\u001b[1;32m     46\u001b[0m \u001b[38;5;129m@classmethod\u001b[39m\n\u001b[1;32m     47\u001b[0m \u001b[38;5;28;01mdef\u001b[39;00m \u001b[38;5;21mvalidate_start_date\u001b[39m(\u001b[38;5;28mcls\u001b[39m, v):\n\u001b[1;32m     48\u001b[0m \u001b[38;5;250m    \u001b[39m\u001b[38;5;124;03m\"\"\"Validate and convert start_date to the correct format.\"\"\"\u001b[39;00m\n\u001b[1;32m     49\u001b[0m     \u001b[38;5;28;01mif\u001b[39;00m v \u001b[38;5;129;01mis\u001b[39;00m \u001b[38;5;28;01mNone\u001b[39;00m:\n",
      "\u001b[0;31mNameError\u001b[0m: name 'field_validator' is not defined"
     ]
    }
   ],
   "source": [
    "class Ticker(BaseModel):\n",
    "    id: str\n",
    "    symbol: str\n",
    "    exchange: str\n",
    "    backfill: bool\n",
    "    market_last_updated_at: Optional[str]\n",
    "        \n",
    "class EventType(str, Enum):\n",
    "    \"\"\"Types of events that can be processed by the pipeline.\"\"\"\n",
    "\n",
    "    SCHEDULED = \"scheduled\"  # Regular scheduled update\n",
    "    INITIALIZE = \"initialize\"  # Process new tickers with backfill\n",
    "    UPDATE = \"update\"  # Force update specific tickers\n",
    "    BACKFILL = \"backfill\"  # Historical data backfill\n",
    "\n",
    "class PipelineConfig(BaseModel):\n",
    "    process_prices: bool = True\n",
    "    process_info: bool = True\n",
    "    process_calendar: bool = True\n",
    "    process_fund_data: bool = True\n",
    "    force_update: bool = False\n",
    "    backfill: bool = False\n",
    "    start_date: Optional[date] = None\n",
    "    specific_tickers: Optional[List[str]] = None\n",
    "        \n",
    "class EventConfig(BaseModel):\n",
    "    \"\"\"Configuration options that can be provided in an event.\"\"\"\n",
    "\n",
    "    backfill: Optional[bool] = None\n",
    "    prices: Optional[bool] = None\n",
    "    info: Optional[bool] = None\n",
    "    calendar: Optional[bool] = None\n",
    "    fund_data: Optional[bool] = None\n",
    "\n",
    "\n",
    "        \n",
    "class EventPayload(BaseModel):\n",
    "    \"\"\"Schema for the event payload.\"\"\"\n",
    "\n",
    "    type: EventType = EventType.SCHEDULED\n",
    "    tickers: Optional[List[str]] = None\n",
    "    start_date: Optional[str] = None\n",
    "    config: Optional[EventConfig] = None\n",
    "\n",
    "    @field_validator(\"start_date\")\n",
    "    @classmethod\n",
    "    def validate_start_date(cls, v):\n",
    "        \"\"\"Validate and convert start_date to the correct format.\"\"\"\n",
    "        if v is None:\n",
    "            return None\n",
    "        try:\n",
    "            # Parse date string in YYYY-MM-DD format\n",
    "            parsed_date = datetime.strptime(v, \"%Y-%m-%d\").date()\n",
    "            return parsed_date\n",
    "        except ValueError:\n",
    "            raise ValueError(\"start_date must be in YYYY-MM-DD format\")\n",
    "\n",
    "\n"
   ]
  },
  {
   "cell_type": "code",
   "execution_count": 28,
   "id": "97fb9a50",
   "metadata": {},
   "outputs": [],
   "source": [
    "class TickerFetcher:\n",
    "    def __init__(self, supabase_client):\n",
    "        self.supabase = supabase_client\n",
    "\n",
    "    def fetch_tickers(self):\n",
    "        try:\n",
    "            response = (\n",
    "                self.supabase.table(\"tickers\")\n",
    "                .select(\"id, symbol, exchange, backfill, market_last_updated_at\")\n",
    "                .execute()\n",
    "            )\n",
    "            return response.data\n",
    "        except Exception as e:\n",
    "            return []\n"
   ]
  },
  {
   "cell_type": "code",
   "execution_count": 29,
   "id": "797465d6",
   "metadata": {},
   "outputs": [],
   "source": [
    "tickerFetcher = TickerFetcher(supabase_client)"
   ]
  },
  {
   "cell_type": "code",
   "execution_count": 30,
   "id": "b6104b65",
   "metadata": {},
   "outputs": [],
   "source": [
    "db_tickers = tickerFetcher.fetch_tickers()"
   ]
  },
  {
   "cell_type": "code",
   "execution_count": 31,
   "id": "c1ff1b9a",
   "metadata": {},
   "outputs": [],
   "source": [
    "tickers = [Ticker(**ticker) for ticker in db_tickers]\n"
   ]
  },
  {
   "cell_type": "code",
   "execution_count": 32,
   "id": "73a22968",
   "metadata": {},
   "outputs": [
    {
     "data": {
      "text/plain": [
       "[Ticker(id='e26f0039-781c-468a-93ae-65835d8d742b', symbol='SPYI', exchange='NASDAQ', backfill=False, market_last_updated_at=None),\n",
       " Ticker(id='8da9010d-cc57-4088-9538-5d414ce3a6ee', symbol='SPY', exchange='NASDAQ', backfill=False, market_last_updated_at=None),\n",
       " Ticker(id='0de4de7f-e515-4ddb-a328-7d81b4e5142f', symbol='AMZN', exchange='NASDAQ', backfill=False, market_last_updated_at=None),\n",
       " Ticker(id='f90950e7-a6b0-44b9-99c5-aba60280b4c6', symbol='BTI', exchange='NYSE', backfill=False, market_last_updated_at=None),\n",
       " Ticker(id='830c793e-a9c7-4703-8fcf-7e5c9b6588a6', symbol='TAP', exchange='NYSE', backfill=False, market_last_updated_at=None),\n",
       " Ticker(id='2259091f-4847-42e3-8959-6e5f4cbaf805', symbol='MO', exchange='NYSE', backfill=False, market_last_updated_at=None),\n",
       " Ticker(id='01e4dc23-0dd7-47f5-8d58-21209fc1a464', symbol='CCU', exchange='NYSE', backfill=False, market_last_updated_at=None),\n",
       " Ticker(id='f5adb8b2-4920-44de-bb15-b966df8567c8', symbol='AAPL', exchange='NASDAQ', backfill=False, market_last_updated_at=None),\n",
       " Ticker(id='126f1417-042d-433c-94ce-e02f195cdc93', symbol='ASML', exchange='NASDAQ', backfill=False, market_last_updated_at=None)]"
      ]
     },
     "execution_count": 32,
     "metadata": {},
     "output_type": "execute_result"
    }
   ],
   "source": [
    "tickers"
   ]
  },
  {
   "cell_type": "code",
   "execution_count": 39,
   "id": "4abe12a9",
   "metadata": {},
   "outputs": [
    {
     "data": {
      "text/plain": [
       "datetime.datetime(2025, 4, 11, 20, 48, 30, 852657)"
      ]
     },
     "execution_count": 39,
     "metadata": {},
     "output_type": "execute_result"
    }
   ],
   "source": [
    "datetime.utcnow()\n"
   ]
  },
  {
   "cell_type": "code",
   "execution_count": null,
   "id": "fc24c4c1",
   "metadata": {},
   "outputs": [],
   "source": []
  }
 ],
 "metadata": {
  "kernelspec": {
   "display_name": "Python 3 (ipykernel)",
   "language": "python",
   "name": "python3"
  },
  "language_info": {
   "codemirror_mode": {
    "name": "ipython",
    "version": 3
   },
   "file_extension": ".py",
   "mimetype": "text/x-python",
   "name": "python",
   "nbconvert_exporter": "python",
   "pygments_lexer": "ipython3",
   "version": "3.11.0"
  }
 },
 "nbformat": 4,
 "nbformat_minor": 5
}
